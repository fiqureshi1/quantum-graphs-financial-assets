{
 "cells": [
  {
   "cell_type": "code",
   "execution_count": 234,
   "metadata": {},
   "outputs": [],
   "source": [
    "from IPython import get_ipython\n",
    "get_ipython().magic('reset -sf')\n",
    "\n",
    "import numpy as np\n",
    "import pandas as pd\n",
    "\n",
    "pd.set_option('display.max_columns', 30) \n",
    "pd.set_option('display.max_colwidth', -1) \n",
    "\n",
    "from time import time\n",
    "from datetime import datetime\n",
    "\n",
    "import os\n",
    "cwd = os.path.abspath(os.path.curdir) "
   ]
  },
  {
   "cell_type": "code",
   "execution_count": 235,
   "metadata": {},
   "outputs": [],
   "source": [
    "# load the data from csv\n",
    "#----------------------------------------\n",
    "def load_data(filename):\n",
    "#----------------------------------------\n",
    "\n",
    "    t1 = time()\n",
    "    print ('Starting Data Load...')\n",
    "    \n",
    "    df=pd.read_csv(filename, sep=',', parse_dates=True) \n",
    "    df.Date = pd.to_datetime(df.Date, yearfirst=True)\n",
    "    \n",
    "    df1=df.dropna(axis=1)\n",
    "       \n",
    "    print ('Data Loaded:', df1.shape, 'in', round(time()-t1,4), 'seconds')\n",
    "        \n",
    "    return df1.iloc[:,:]                # return PD dataframe     \n",
    "   \n",
    "#----------------------------------------"
   ]
  },
  {
   "cell_type": "code",
   "execution_count": 236,
   "metadata": {},
   "outputs": [],
   "source": [
    "def make_corrs(df,dataset):\n",
    "    start_dt=df.iloc[0,0]\n",
    "    end_dt=df.iloc[-1,0]+pd.Timedelta(days=15)\n",
    "    months=pd.date_range(start=start_dt, end=end_dt, freq='M')\n",
    "\n",
    "    x=len(months)        # number of corr matrices\n",
    "    y=df.shape[1]-1      # dimension of corr matrix (don't include date column)\n",
    "\n",
    "    corr_mats_np = np.zeros([x,y,y])\n",
    "    dates=[]\n",
    "    nodes=df.columns.values[1:]\n",
    "\n",
    "    frm = start_dt\n",
    "    for i,d in enumerate(months):\n",
    "        corr_mats_np[i,:,:]=df[(df.Date>frm) & (df.Date<=d)].corr().values\n",
    "        dates.append(d)\n",
    "        frm=d\n",
    "\n",
    "    if dataset == 'sectors':\n",
    "        nodes_descr=[('TRANS','Transport'),('REAL','Real Estate'),('MTRL','Material'),('ENER','Energy'),\n",
    "                     ('FIN','Finance'),('INDU','Industrial'),('TECH','Technology'),('CONSS','Consumer Staple'),\n",
    "                     ('UTIL','Utilities'),('HLTH','Health Care'),('CONSD','Consumer Discret.')]\n",
    "    elif dataset== 'asset_class':\n",
    "         nodes_descr=pd.read_csv('asset_class_names.csv', sep=',', header=None)\n",
    "    elif dataset== 'sp100':\n",
    "         nodes_descr=pd.read_csv('sp100_names.csv', sep=',', header=None)\n",
    "    else:\n",
    "        nodes_descr=[]\n",
    "    \n",
    "    np.save(dataset+'_corr.npy', corr_mats_np)\n",
    "    np.save(dataset+'_dates.npy', np.array(dates))\n",
    "    np.save(dataset+'_nodes.npy', np.array(nodes))\n",
    "    np.save(dataset+'_nodes_descr.npy', np.array(nodes_descr))\n",
    "    \n",
    "    return corr_mats_np, np.array(dates), np.array(nodes), np.array(nodes_descr)"
   ]
  },
  {
   "cell_type": "code",
   "execution_count": 238,
   "metadata": {},
   "outputs": [
    {
     "name": "stdout",
     "output_type": "stream",
     "text": [
      "Starting Data Load...\n",
      "Data Loaded: (2769, 90) in 0.2792 seconds\n"
     ]
    }
   ],
   "source": [
    "# dataset='sectors'\n",
    "# loadcsv='sectors.csv'\n",
    "\n",
    "# dataset='ftse'\n",
    "# loadcsv='ftse.csv'\n",
    "\n",
    "# dataset='asset_class'\n",
    "# loadcsv='asset_class.csv'\n",
    "\n",
    "dataset='sp100'\n",
    "loadcsv='sp100.csv'\n",
    "\n",
    "df = load_data(loadcsv)\n",
    "corr_mats, dates, nodes, nodes_descr = make_corrs(df,dataset)"
   ]
  },
  {
   "cell_type": "code",
   "execution_count": 240,
   "metadata": {},
   "outputs": [
    {
     "data": {
      "text/plain": [
       "941658"
      ]
     },
     "execution_count": 240,
     "metadata": {},
     "output_type": "execute_result"
    }
   ],
   "source": [
    "#np.sum((corr_mats< 0))\n",
    "np.sum((corr_mats> 0))\n",
    "#np.std(corr_mats)"
   ]
  },
  {
   "cell_type": "code",
   "execution_count": 241,
   "metadata": {},
   "outputs": [
    {
     "data": {
      "text/plain": [
       "(132, 89, 89)"
      ]
     },
     "execution_count": 241,
     "metadata": {},
     "output_type": "execute_result"
    }
   ],
   "source": [
    "corr_mats.shape"
   ]
  },
  {
   "cell_type": "code",
   "execution_count": null,
   "metadata": {},
   "outputs": [],
   "source": []
  }
 ],
 "metadata": {
  "kernelspec": {
   "display_name": "Python 3",
   "language": "python",
   "name": "python3"
  },
  "language_info": {
   "codemirror_mode": {
    "name": "ipython",
    "version": 3
   },
   "file_extension": ".py",
   "mimetype": "text/x-python",
   "name": "python",
   "nbconvert_exporter": "python",
   "pygments_lexer": "ipython3",
   "version": "3.6.7"
  }
 },
 "nbformat": 4,
 "nbformat_minor": 2
}
